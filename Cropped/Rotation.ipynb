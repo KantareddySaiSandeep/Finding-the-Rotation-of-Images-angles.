{
 "cells": [
  {
   "cell_type": "code",
   "execution_count": null,
   "metadata": {},
   "outputs": [],
   "source": [
    "import os"
   ]
  },
  {
   "cell_type": "code",
   "execution_count": null,
   "metadata": {},
   "outputs": [],
   "source": [
    "count=0\n",
    "for i in os.listdir(r'/home/kantareddy/Desktop/rotation/Cropped/'):\n",
    "    count=count+1\n",
    "    os.rename('/home/kantareddy/Desktop/rotation/Cropped/'+i,'/home/kantareddy/Desktop/rotation/Cropped/'+'frame'+str(count)+'.jpg')"
   ]
  },
  {
   "cell_type": "code",
   "execution_count": null,
   "metadata": {},
   "outputs": [],
   "source": [
    "count=0\n",
    "for i in os.listdir('/home/kantareddy/Desktop/rotation/Cropped'):\n",
    "    count=count+1\n",
    "    os.rename('/home/kantareddy/Desktop/rotation/Cropped/'+i,'/home/kantareddy/Desktop/rotation/Cropped/'+'frame'+str(count)+'.jpg')"
   ]
  },
  {
   "cell_type": "code",
   "execution_count": null,
   "metadata": {},
   "outputs": [],
   "source": [
    "x"
   ]
  },
  {
   "cell_type": "code",
   "execution_count": null,
   "metadata": {},
   "outputs": [],
   "source": [
    "x='frame0 (2) .jpg'.split(' ')"
   ]
  },
  {
   "cell_type": "code",
   "execution_count": null,
   "metadata": {},
   "outputs": [],
   "source": [
    "x.remove('(2)')"
   ]
  },
  {
   "cell_type": "code",
   "execution_count": null,
   "metadata": {},
   "outputs": [],
   "source": [
    "x[0]+x[1]"
   ]
  },
  {
   "cell_type": "code",
   "execution_count": null,
   "metadata": {},
   "outputs": [],
   "source": [
    "os.getcwd()"
   ]
  },
  {
   "cell_type": "code",
   "execution_count": null,
   "metadata": {},
   "outputs": [],
   "source": [
    "for i in os.listdir(r'/run/user/1000/gvfs/smb-share:server=192.168.209.12/analytics%202/Chandra/MobileApp/Rotation/Cropped'):\n",
    "    print(ii)"
   ]
  },
  {
   "cell_type": "code",
   "execution_count": 2,
   "metadata": {},
   "outputs": [],
   "source": [
    "import imutils\n",
    "import cv2\n",
    "import os"
   ]
  },
  {
   "cell_type": "code",
   "execution_count": 6,
   "metadata": {},
   "outputs": [],
   "source": [
    "for i in os.listdir('/home/kantareddy/Desktop/rotation/Cropped'):\n",
    "    image=cv2.imread('/home/kantareddy/Desktop/rotation/Cropped/'+i)\n",
    "    image1=imutils.rotate_bound(image,90)\n",
    "    cv2.imwrite('/home/kantareddy/Desktop/rotation/90/'+i,image1)"
   ]
  },
  {
   "cell_type": "code",
   "execution_count": 8,
   "metadata": {},
   "outputs": [],
   "source": [
    "for i in os.listdir('/home/kantareddy/Desktop/rotation/Cropped'):\n",
    "    image=cv2.imread('/home/kantareddy/Desktop/rotation/Cropped/'+i)\n",
    "    image1=imutils.rotate_bound(image,53)\n",
    "    cv2.imwrite('/home/kantareddy/Desktop/rotation/53/'+i,image1)"
   ]
  },
  {
   "cell_type": "code",
   "execution_count": null,
   "metadata": {},
   "outputs": [],
   "source": []
  }
 ],
 "metadata": {
  "kernelspec": {
   "display_name": "Python 3",
   "language": "python",
   "name": "python3"
  },
  "language_info": {
   "codemirror_mode": {
    "name": "ipython",
    "version": 3
   },
   "file_extension": ".py",
   "mimetype": "text/x-python",
   "name": "python",
   "nbconvert_exporter": "python",
   "pygments_lexer": "ipython3",
   "version": "3.6.7"
  }
 },
 "nbformat": 4,
 "nbformat_minor": 2
}
